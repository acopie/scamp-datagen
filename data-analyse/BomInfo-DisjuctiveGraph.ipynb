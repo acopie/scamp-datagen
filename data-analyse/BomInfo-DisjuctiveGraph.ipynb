{
 "cells": [
  {
   "cell_type": "code",
   "execution_count": 10,
   "id": "5a86f2ea-ac77-4a1e-a9de-619e35361016",
   "metadata": {},
   "outputs": [],
   "source": [
    "import matplotlib.pyplot as plt  # plotting library\n",
    "import seaborn as sns  # plotting library\n",
    "import math # math\n",
    "import glob\n",
    "import csv\n",
    "import statistics\n",
    "from pathlib import Path\n",
    "import scipy\n",
    "import scipy.special\n",
    "import numpy\n",
    "import inspect\n",
    "from networkx.drawing.nx_pydot import graphviz_layout\n",
    "import matplotlib.pyplot as plt\n"
   ]
  },
  {
   "cell_type": "code",
   "execution_count": null,
   "id": "58adf23f-83b7-4ef5-bb5d-b4e13d65afbc",
   "metadata": {},
   "outputs": [],
   "source": [
    "%run BomInfo-Util.ipynb"
   ]
  },
  {
   "cell_type": "code",
   "execution_count": 12,
   "id": "bb51d0ea-1ff0-4c29-8411-93002faa69a6",
   "metadata": {},
   "outputs": [],
   "source": [
    "%run BomInfo-OperationsGraph.ipynb import build_operation_tree"
   ]
  },
  {
   "cell_type": "code",
   "execution_count": 19,
   "id": "9918af53-ade5-44fa-8e61-04927ca4972f",
   "metadata": {},
   "outputs": [],
   "source": [
    "\n",
    "def add_disjunctive_edges(G, dict_machine_operations, dict_operations_machine):\n",
    "    \"\"\"\n",
    "    Edge (X,Y) edge between operations executed on same machine \n",
    "    \"\"\"\n",
    "    op_no = len(dict_operations_machine)\n",
    "    for m_id, ops in dict_machine_operations.items():\n",
    "        ops = list(ops)\n",
    "        ops_per_machine=len(ops)\n",
    "        for i in range(ops_per_machine-1):\n",
    "            for j in range(i+1, ops_per_machine):\n",
    "                reunion = set()\n",
    "                reunion.update( dict_operations_machine[ops[i]])\n",
    "                reunion.update(dict_operations_machine[ops[j]])\n",
    "                intersection = dict_operations_machine[ops[i]].intersection(dict_operations_machine[ops[j]])\n",
    "                G.add_edge(f'O{ops[i]}', f'O{ops[j]}', machine= f\"M{m_id}\", \n",
    "                           m_operations = ops_per_machine / op_no, \n",
    "                           m_shared_intersection = len(intersection) / ops_per_machine, \n",
    "                           m_shared_reunion = len(reunion) / ops_per_machine)\n",
    "        \n",
    "def build_auxilary_structures_for_disjunctive_edges(current_node, product_machine_dictionary, dict_machine_operations, dict_operations_machine):\n",
    "    operation_id = current_node['operationid']\n",
    "    product_id = current_node['productid']\n",
    "    \n",
    "    machines = product_machine_dictionary[product_id]\n",
    "            \n",
    "    for m in machines:\n",
    "        m_id = m['id']\n",
    "        if m_id not in dict_machine_operations:\n",
    "            dict_machine_operations[m_id] = {operation_id}\n",
    "        else:\n",
    "            dict_machine_operations[m_id].add(operation_id)\n",
    "\n",
    "        if operation_id not in  dict_operations_machine:\n",
    "            dict_operations_machine[operation_id] = {m_id}\n",
    "        else:\n",
    "            dict_operations_machine[operation_id].add(m_id)  \n",
    "\n",
    "    if 'children' not in current_node:\n",
    "        return\n",
    "    \n",
    "    children = current_node['children']\n",
    "    if len(children) == 0:\n",
    "        return\n",
    "\n",
    "    for node in children:\n",
    "        build_auxilary_structures_for_disjunctive_edges(node, product_machine_dictionary, dict_machine_operations, dict_operations_machine)\n",
    "\n",
    "\n",
    "def build_disjunctive_graph(current_node, G, product_machine_dictionary):\n",
    "    \"\"\"\n",
    "    Node = operation\n",
    "       - information = no. of machines on which can be produced\n",
    "    Edge precedence relation betwwen operations(A,B) \n",
    "       - information = no. of B pices to produce A\n",
    "    Edge (X,Y) edge between operations executed on same machine \n",
    "    \"\"\"\n",
    "    build_operation_tree(current_node, G, product_machine_dictionary)\n",
    "    \n",
    "    dict_machine_operations = {}\n",
    "    dict_operations_machine = {}\n",
    "    build_auxilary_structures_for_disjunctive_edges(current_node, product_machine_dictionary, dict_machine_operations, dict_operations_machine)\n",
    "    add_disjunctive_edges(G, dict_machine_operations, dict_operations_machine)\n",
    "    "
   ]
  },
  {
   "cell_type": "code",
   "execution_count": 20,
   "id": "4743fedb-acb3-4cd1-ad7d-aca3637f16f3",
   "metadata": {},
   "outputs": [],
   "source": [
    "def build_disjuctive_graph_charactristics(graphs):\n",
    "   \n",
    "    data_problem  = build_operation_graph_characteristics(graphs)\n",
    "\n",
    "    data_problem['machine_per_operation_edges'] = []\n",
    "\n",
    "    for g in graphs:\n",
    "        no_of_machine_edges = len([(u,v) for u,v,e in g.edges(data=True) if ('machine' in e) and e['machine'][0] == 'M'])\n",
    "        data_problem['machine_per_operation_edges'].append((g.number_of_edges()-no_of_machine_edges)/no_of_machine_edges)\n",
    "\n",
    "    return data_problem\n"
   ]
  },
  {
   "cell_type": "code",
   "execution_count": 21,
   "id": "b791518f-a52d-4206-919a-31a595a67e6d",
   "metadata": {},
   "outputs": [],
   "source": [
    "#CONFIGURATIONS\n",
    "out_path_dir='../datasets/results/instances_characteristics/ianuarie2025-v2/disjunctive'\n",
    "dataset_path_dir='../datasets/'\n",
    "weight_atts = [None,'quantity', 's_execution_time', 's_quantity', 's_number',\n",
    "               'm_operations', 'm_shared_intersection', 'm_shared_reunion']\n"
   ]
  },
  {
   "cell_type": "code",
   "execution_count": 22,
   "id": "0262f0de",
   "metadata": {
    "scrolled": true
   },
   "outputs": [],
   "source": [
    "def buildDatasetDisjunctive(dataset_graph, output_file_name):\n",
    "    \"\"\"\n",
    "    :param: dataset_graph - list of disjunctive multigraphs\n",
    "    :param: output_file_name - file name to store characteristics\n",
    "    \"\"\"\n",
    "    build_charactristics_info(dataset_graph, build_disjuctive_graph_charactristics, \n",
    "                              out_path_dir, output_file_name, append_to_file=False, \n",
    "                              weight_atts=weight_atts)\n"
   ]
  },
  {
   "cell_type": "code",
   "execution_count": 23,
   "id": "87919923-d125-4e71-9ff9-d4a78a25cffa",
   "metadata": {},
   "outputs": [],
   "source": [
    "def buildALL():\n",
    "    \"\"\"\n",
    "    Build operation graph characteristics for all test  instances\n",
    "    \"\"\"\n",
    "    #load like multigraphs\n",
    "    _2asp_graphs, dyuthi_graphs, fjssp_graph, asp_deep_graphs, asp_wide_graphs, asp_mixed_graphs, dafjs_graphs, yfjs_graphs = load_graphs(build_disjunctive_graph)\n",
    "\n",
    "    # buildDatasetDisjunctive(_2asp_graphs, 'bom_info_graph_2asp.csv')\n",
    "    #buildDatasetDisjunctive(fjssp_graph, 'bom_info_graph_fjssp.csv')\n",
    "    #buildDatasetDisjunctive(dyuthi_graphs, 'bom_info_graph_dyuthi.csv')\n",
    "    #buildDatasetDisjunctive(asp_wide_graphs, 'bom_info_graph_wide.csv')\n",
    "    #buildDatasetDisjunctive(asp_deep_graphs, 'bom_info_graph_deep.csv')\n",
    "    #buildDatasetDisjunctive(asp_mixed_graphs, 'bom_info_graph_mixed.csv')\n",
    "    # buildDatasetDisjunctive(dafjs_graphs, 'bom_info_graph_dafjs.csv')\n",
    "    buildDatasetDisjunctive(yfjs_graphs, 'bom_info_graph_yfjs.csv')\n",
    "#buildALL()"
   ]
  },
  {
   "cell_type": "code",
   "execution_count": 24,
   "id": "423bb95d-0135-4e93-92c5-d14b8c18d599",
   "metadata": {},
   "outputs": [
    {
     "ename": "KeyboardInterrupt",
     "evalue": "",
     "output_type": "error",
     "traceback": [
      "\u001b[0;31m---------------------------------------------------------------------------\u001b[0m",
      "\u001b[0;31mKeyError\u001b[0m                                  Traceback (most recent call last)",
      "File \u001b[0;32m~/.conda/envs/scamp-ml_uvt/lib/python3.10/site-packages/networkx/classes/multigraph.py:422\u001b[0m, in \u001b[0;36mMultiGraph.new_edge_key\u001b[0;34m(self, u, v)\u001b[0m\n\u001b[1;32m    421\u001b[0m \u001b[38;5;28;01mtry\u001b[39;00m:\n\u001b[0;32m--> 422\u001b[0m     keydict \u001b[38;5;241m=\u001b[39m \u001b[38;5;28;43mself\u001b[39;49m\u001b[38;5;241;43m.\u001b[39;49m\u001b[43m_adj\u001b[49m\u001b[43m[\u001b[49m\u001b[43mu\u001b[49m\u001b[43m]\u001b[49m\u001b[43m[\u001b[49m\u001b[43mv\u001b[49m\u001b[43m]\u001b[49m\n\u001b[1;32m    423\u001b[0m \u001b[38;5;28;01mexcept\u001b[39;00m \u001b[38;5;167;01mKeyError\u001b[39;00m:\n",
      "\u001b[0;31mKeyError\u001b[0m: 'O973'",
      "\nDuring handling of the above exception, another exception occurred:\n",
      "\u001b[0;31mKeyboardInterrupt\u001b[0m                         Traceback (most recent call last)",
      "Cell \u001b[0;32mIn[24], line 1\u001b[0m\n\u001b[0;32m----> 1\u001b[0m \u001b[43mbuildALL\u001b[49m\u001b[43m(\u001b[49m\u001b[43m)\u001b[49m\n",
      "Cell \u001b[0;32mIn[23], line 6\u001b[0m, in \u001b[0;36mbuildALL\u001b[0;34m()\u001b[0m\n\u001b[1;32m      2\u001b[0m \u001b[38;5;250m\u001b[39m\u001b[38;5;124;03m\"\"\"\u001b[39;00m\n\u001b[1;32m      3\u001b[0m \u001b[38;5;124;03mBuild operation graph characteristics for all test  instances\u001b[39;00m\n\u001b[1;32m      4\u001b[0m \u001b[38;5;124;03m\"\"\"\u001b[39;00m\n\u001b[1;32m      5\u001b[0m \u001b[38;5;66;03m#load like multigraphs\u001b[39;00m\n\u001b[0;32m----> 6\u001b[0m _2asp_graphs, dyuthi_graphs, fjssp_graph, asp_deep_graphs, asp_wide_graphs, asp_mixed_graphs, dafjs_graphs, yfjs_graphs \u001b[38;5;241m=\u001b[39m \u001b[43mload_graphs\u001b[49m\u001b[43m(\u001b[49m\u001b[43mbuild_disjunctive_graph\u001b[49m\u001b[43m)\u001b[49m\n\u001b[1;32m      8\u001b[0m \u001b[38;5;66;03m# buildDatasetDisjunctive(_2asp_graphs, 'bom_info_graph_2asp.csv')\u001b[39;00m\n\u001b[1;32m      9\u001b[0m \u001b[38;5;66;03m#buildDatasetDisjunctive(fjssp_graph, 'bom_info_graph_fjssp.csv')\u001b[39;00m\n\u001b[1;32m     10\u001b[0m \u001b[38;5;66;03m#buildDatasetDisjunctive(dyuthi_graphs, 'bom_info_graph_dyuthi.csv')\u001b[39;00m\n\u001b[0;32m   (...)\u001b[0m\n\u001b[1;32m     13\u001b[0m \u001b[38;5;66;03m#buildDatasetDisjunctive(asp_mixed_graphs, 'bom_info_graph_mixed.csv')\u001b[39;00m\n\u001b[1;32m     14\u001b[0m \u001b[38;5;66;03m# buildDatasetDisjunctive(dafjs_graphs, 'bom_info_graph_dafjs.csv')\u001b[39;00m\n\u001b[1;32m     15\u001b[0m buildDatasetDisjunctive(yfjs_graphs, \u001b[38;5;124m'\u001b[39m\u001b[38;5;124mbom_info_graph_yfjs.csv\u001b[39m\u001b[38;5;124m'\u001b[39m)\n",
      "File \u001b[0;32m/var/folders/_0/q7s3xs_97zj6tq1mbyp_r9nm0000gn/T/ipykernel_1656/688379861.py:3\u001b[0m, in \u001b[0;36mload_graphs\u001b[0;34m(build_graph_function, type_digraph, edge_info)\u001b[0m\n\u001b[1;32m      1\u001b[0m \u001b[38;5;28;01mdef\u001b[39;00m \u001b[38;5;21mload_graphs\u001b[39m(build_graph_function, type_digraph\u001b[38;5;241m=\u001b[39m\u001b[38;5;28;01mFalse\u001b[39;00m, edge_info\u001b[38;5;241m=\u001b[39m\u001b[38;5;28;01mNone\u001b[39;00m):\n\u001b[0;32m----> 3\u001b[0m     _2asp_graphs \u001b[38;5;241m=\u001b[39m \u001b[43mbuild_graph_list\u001b[49m\u001b[43m(\u001b[49m\u001b[43mdata_set_path\u001b[49m\u001b[38;5;241;43m=\u001b[39;49m\u001b[38;5;124;43mf\u001b[39;49m\u001b[38;5;124;43m'\u001b[39;49m\u001b[38;5;132;43;01m{\u001b[39;49;00m\u001b[43mDATASET_ROOT_PATH\u001b[49m\u001b[38;5;132;43;01m}\u001b[39;49;00m\u001b[38;5;124;43m/2ASP/\u001b[39;49m\u001b[38;5;124;43m'\u001b[39;49m\u001b[43m,\u001b[49m\u001b[43m \u001b[49m\u001b[38;5;28;43mfilter\u001b[39;49m\u001b[38;5;241;43m=\u001b[39;49m\u001b[38;5;124;43m\"\u001b[39;49m\u001b[38;5;124;43m*.json\u001b[39;49m\u001b[38;5;124;43m\"\u001b[39;49m\u001b[43m,\u001b[49m\u001b[43m \u001b[49m\u001b[43mbuild_graph_function\u001b[49m\u001b[38;5;241;43m=\u001b[39;49m\u001b[43mbuild_graph_function\u001b[49m\u001b[43m,\u001b[49m\u001b[43m \u001b[49m\u001b[43mtype_digraph\u001b[49m\u001b[38;5;241;43m=\u001b[39;49m\u001b[43mtype_digraph\u001b[49m\u001b[43m)\u001b[49m\n\u001b[1;32m      5\u001b[0m     dyuthi_graphs \u001b[38;5;241m=\u001b[39m build_graph_list(data_set_path\u001b[38;5;241m=\u001b[39m\u001b[38;5;124mf\u001b[39m\u001b[38;5;124m'\u001b[39m\u001b[38;5;132;01m{\u001b[39;00mDATASET_ROOT_PATH\u001b[38;5;132;01m}\u001b[39;00m\u001b[38;5;124m/dyuthi/\u001b[39m\u001b[38;5;124m'\u001b[39m, \u001b[38;5;28mfilter\u001b[39m\u001b[38;5;241m=\u001b[39m\u001b[38;5;124m\"\u001b[39m\u001b[38;5;124m*.json\u001b[39m\u001b[38;5;124m\"\u001b[39m, build_graph_function\u001b[38;5;241m=\u001b[39mbuild_graph_function, type_digraph\u001b[38;5;241m=\u001b[39mtype_digraph)\n\u001b[1;32m      7\u001b[0m     fjssp_graph \u001b[38;5;241m=\u001b[39m build_graph_list(data_set_path\u001b[38;5;241m=\u001b[39m\u001b[38;5;124mf\u001b[39m\u001b[38;5;124m'\u001b[39m\u001b[38;5;132;01m{\u001b[39;00mDATASET_ROOT_PATH\u001b[38;5;132;01m}\u001b[39;00m\u001b[38;5;124m/FJSSP-Hurink-vdata/\u001b[39m\u001b[38;5;124m'\u001b[39m, \u001b[38;5;28mfilter\u001b[39m\u001b[38;5;241m=\u001b[39m\u001b[38;5;124m\"\u001b[39m\u001b[38;5;124m*.json\u001b[39m\u001b[38;5;124m\"\u001b[39m, build_graph_function\u001b[38;5;241m=\u001b[39mbuild_graph_function, type_digraph\u001b[38;5;241m=\u001b[39mtype_digraph)\n",
      "File \u001b[0;32m/var/folders/_0/q7s3xs_97zj6tq1mbyp_r9nm0000gn/T/ipykernel_1656/4132256666.py:60\u001b[0m, in \u001b[0;36mbuild_graph_list\u001b[0;34m(data_set_path, filter, build_graph_function, data_set_filter, type_digraph)\u001b[0m\n\u001b[1;32m     58\u001b[0m     product_machine_dictionary  \u001b[38;5;241m=\u001b[39m {}\n\u001b[1;32m     59\u001b[0m     get_product_machine(root_node, product_machine_dictionary, metainfo)\n\u001b[0;32m---> 60\u001b[0m     \u001b[43mbuild_graph_function\u001b[49m\u001b[43m(\u001b[49m\u001b[43mroot_node\u001b[49m\u001b[43m,\u001b[49m\u001b[43m \u001b[49m\u001b[43mG\u001b[49m\u001b[43m,\u001b[49m\u001b[43m \u001b[49m\u001b[43mproduct_machine_dictionary\u001b[49m\u001b[43m)\u001b[49m\n\u001b[1;32m     61\u001b[0m     graph_list\u001b[38;5;241m.\u001b[39mappend(G)\n\u001b[1;32m     63\u001b[0m \u001b[38;5;28;01mreturn\u001b[39;00m graph_list\n",
      "Cell \u001b[0;32mIn[19], line 62\u001b[0m, in \u001b[0;36mbuild_disjunctive_graph\u001b[0;34m(current_node, G, product_machine_dictionary)\u001b[0m\n\u001b[1;32m     60\u001b[0m dict_operations_machine \u001b[38;5;241m=\u001b[39m {}\n\u001b[1;32m     61\u001b[0m build_auxilary_structures_for_disjunctive_edges(current_node, product_machine_dictionary, dict_machine_operations, dict_operations_machine)\n\u001b[0;32m---> 62\u001b[0m \u001b[43madd_disjunctive_edges\u001b[49m\u001b[43m(\u001b[49m\u001b[43mG\u001b[49m\u001b[43m,\u001b[49m\u001b[43m \u001b[49m\u001b[43mdict_machine_operations\u001b[49m\u001b[43m,\u001b[49m\u001b[43m \u001b[49m\u001b[43mdict_operations_machine\u001b[49m\u001b[43m)\u001b[49m\n",
      "Cell \u001b[0;32mIn[19], line 15\u001b[0m, in \u001b[0;36madd_disjunctive_edges\u001b[0;34m(G, dict_machine_operations, dict_operations_machine)\u001b[0m\n\u001b[1;32m     13\u001b[0m reunion\u001b[38;5;241m.\u001b[39mupdate(dict_operations_machine[ops[j]])\n\u001b[1;32m     14\u001b[0m intersection \u001b[38;5;241m=\u001b[39m dict_operations_machine[ops[i]]\u001b[38;5;241m.\u001b[39mintersection(dict_operations_machine[ops[j]])\n\u001b[0;32m---> 15\u001b[0m \u001b[43mG\u001b[49m\u001b[38;5;241;43m.\u001b[39;49m\u001b[43madd_edge\u001b[49m\u001b[43m(\u001b[49m\u001b[38;5;124;43mf\u001b[39;49m\u001b[38;5;124;43m'\u001b[39;49m\u001b[38;5;124;43mO\u001b[39;49m\u001b[38;5;132;43;01m{\u001b[39;49;00m\u001b[43mops\u001b[49m\u001b[43m[\u001b[49m\u001b[43mi\u001b[49m\u001b[43m]\u001b[49m\u001b[38;5;132;43;01m}\u001b[39;49;00m\u001b[38;5;124;43m'\u001b[39;49m\u001b[43m,\u001b[49m\u001b[43m \u001b[49m\u001b[38;5;124;43mf\u001b[39;49m\u001b[38;5;124;43m'\u001b[39;49m\u001b[38;5;124;43mO\u001b[39;49m\u001b[38;5;132;43;01m{\u001b[39;49;00m\u001b[43mops\u001b[49m\u001b[43m[\u001b[49m\u001b[43mj\u001b[49m\u001b[43m]\u001b[49m\u001b[38;5;132;43;01m}\u001b[39;49;00m\u001b[38;5;124;43m'\u001b[39;49m\u001b[43m,\u001b[49m\u001b[43m \u001b[49m\u001b[43mmachine\u001b[49m\u001b[38;5;241;43m=\u001b[39;49m\u001b[43m \u001b[49m\u001b[38;5;124;43mf\u001b[39;49m\u001b[38;5;124;43m\"\u001b[39;49m\u001b[38;5;124;43mM\u001b[39;49m\u001b[38;5;132;43;01m{\u001b[39;49;00m\u001b[43mm_id\u001b[49m\u001b[38;5;132;43;01m}\u001b[39;49;00m\u001b[38;5;124;43m\"\u001b[39;49m\u001b[43m,\u001b[49m\u001b[43m \u001b[49m\n\u001b[1;32m     16\u001b[0m \u001b[43m           \u001b[49m\u001b[43mm_operations\u001b[49m\u001b[43m \u001b[49m\u001b[38;5;241;43m=\u001b[39;49m\u001b[43m \u001b[49m\u001b[43mops_per_machine\u001b[49m\u001b[43m \u001b[49m\u001b[38;5;241;43m/\u001b[39;49m\u001b[43m \u001b[49m\u001b[43mop_no\u001b[49m\u001b[43m,\u001b[49m\u001b[43m \u001b[49m\n\u001b[1;32m     17\u001b[0m \u001b[43m           \u001b[49m\u001b[43mm_shared_intersection\u001b[49m\u001b[43m \u001b[49m\u001b[38;5;241;43m=\u001b[39;49m\u001b[43m \u001b[49m\u001b[38;5;28;43mlen\u001b[39;49m\u001b[43m(\u001b[49m\u001b[43mintersection\u001b[49m\u001b[43m)\u001b[49m\u001b[43m \u001b[49m\u001b[38;5;241;43m/\u001b[39;49m\u001b[43m \u001b[49m\u001b[43mops_per_machine\u001b[49m\u001b[43m,\u001b[49m\u001b[43m \u001b[49m\n\u001b[1;32m     18\u001b[0m \u001b[43m           \u001b[49m\u001b[43mm_shared_reunion\u001b[49m\u001b[43m \u001b[49m\u001b[38;5;241;43m=\u001b[39;49m\u001b[43m \u001b[49m\u001b[38;5;28;43mlen\u001b[39;49m\u001b[43m(\u001b[49m\u001b[43mreunion\u001b[49m\u001b[43m)\u001b[49m\u001b[43m \u001b[49m\u001b[38;5;241;43m/\u001b[39;49m\u001b[43m \u001b[49m\u001b[43mops_per_machine\u001b[49m\u001b[43m)\u001b[49m\n",
      "File \u001b[0;32m~/.conda/envs/scamp-ml_uvt/lib/python3.10/site-packages/networkx/classes/multigraph.py:509\u001b[0m, in \u001b[0;36mMultiGraph.add_edge\u001b[0;34m(self, u_for_edge, v_for_edge, key, **attr)\u001b[0m\n\u001b[1;32m    507\u001b[0m     \u001b[38;5;28mself\u001b[39m\u001b[38;5;241m.\u001b[39m_node[v] \u001b[38;5;241m=\u001b[39m \u001b[38;5;28mself\u001b[39m\u001b[38;5;241m.\u001b[39mnode_attr_dict_factory()\n\u001b[1;32m    508\u001b[0m \u001b[38;5;28;01mif\u001b[39;00m key \u001b[38;5;129;01mis\u001b[39;00m \u001b[38;5;28;01mNone\u001b[39;00m:\n\u001b[0;32m--> 509\u001b[0m     key \u001b[38;5;241m=\u001b[39m \u001b[38;5;28;43mself\u001b[39;49m\u001b[38;5;241;43m.\u001b[39;49m\u001b[43mnew_edge_key\u001b[49m\u001b[43m(\u001b[49m\u001b[43mu\u001b[49m\u001b[43m,\u001b[49m\u001b[43m \u001b[49m\u001b[43mv\u001b[49m\u001b[43m)\u001b[49m\n\u001b[1;32m    510\u001b[0m \u001b[38;5;28;01mif\u001b[39;00m v \u001b[38;5;129;01min\u001b[39;00m \u001b[38;5;28mself\u001b[39m\u001b[38;5;241m.\u001b[39m_adj[u]:\n\u001b[1;32m    511\u001b[0m     keydict \u001b[38;5;241m=\u001b[39m \u001b[38;5;28mself\u001b[39m\u001b[38;5;241m.\u001b[39m_adj[u][v]\n",
      "File \u001b[0;32m~/.conda/envs/scamp-ml_uvt/lib/python3.10/site-packages/networkx/classes/multigraph.py:422\u001b[0m, in \u001b[0;36mMultiGraph.new_edge_key\u001b[0;34m(self, u, v)\u001b[0m\n\u001b[1;32m    402\u001b[0m \u001b[38;5;250m\u001b[39m\u001b[38;5;124;03m\"\"\"Returns an unused key for edges between nodes `u` and `v`.\u001b[39;00m\n\u001b[1;32m    403\u001b[0m \n\u001b[1;32m    404\u001b[0m \u001b[38;5;124;03mThe nodes `u` and `v` do not need to be already in the graph.\u001b[39;00m\n\u001b[0;32m   (...)\u001b[0m\n\u001b[1;32m    419\u001b[0m \u001b[38;5;124;03mkey : int\u001b[39;00m\n\u001b[1;32m    420\u001b[0m \u001b[38;5;124;03m\"\"\"\u001b[39;00m\n\u001b[1;32m    421\u001b[0m \u001b[38;5;28;01mtry\u001b[39;00m:\n\u001b[0;32m--> 422\u001b[0m     keydict \u001b[38;5;241m=\u001b[39m \u001b[38;5;28;43mself\u001b[39;49m\u001b[38;5;241;43m.\u001b[39;49m\u001b[43m_adj\u001b[49m\u001b[43m[\u001b[49m\u001b[43mu\u001b[49m\u001b[43m]\u001b[49m\u001b[43m[\u001b[49m\u001b[43mv\u001b[49m\u001b[43m]\u001b[49m\n\u001b[1;32m    423\u001b[0m \u001b[38;5;28;01mexcept\u001b[39;00m \u001b[38;5;167;01mKeyError\u001b[39;00m:\n\u001b[1;32m    424\u001b[0m     \u001b[38;5;28;01mreturn\u001b[39;00m \u001b[38;5;241m0\u001b[39m\n",
      "\u001b[0;31mKeyboardInterrupt\u001b[0m: "
     ]
    }
   ],
   "source": [
    "buildALL()"
   ]
  },
  {
   "cell_type": "markdown",
   "id": "e9ee1397-a60a-465c-9c16-ccb32af2955e",
   "metadata": {},
   "source": [
    "# Graph Visualisation"
   ]
  },
  {
   "cell_type": "code",
   "execution_count": 10,
   "id": "264b796d-2ac5-46fe-a2bf-368dc77f6f66",
   "metadata": {},
   "outputs": [],
   "source": [
    "#display\n",
    "from pyvis import network as pvnet\n",
    "\n",
    "def plot_g_pyviz(G, name='out.html', height='300px', width='700px'):\n",
    "    g = G.copy() # some attributes added to nodes\n",
    "    net = pvnet.Network(notebook=True, directed=True, height=height, width=width)\n",
    "    opts = '''\n",
    "        var options = {\n",
    "          \"physics\": {\n",
    "            \"forceAtlas2Based\": {\n",
    "              \"gravitationalConstant\": -100,\n",
    "              \"centralGravity\": 0.11,\n",
    "              \"springLength\": 100,\n",
    "              \"springConstant\": 0.09,\n",
    "              \"avoidOverlap\": 1\n",
    "            },\n",
    "            \"minVelocity\": 0.75,\n",
    "            \"solver\": \"forceAtlas2Based\",\n",
    "            \"timestep\": 0.22\n",
    "          }\n",
    "        }\n",
    "    '''\n",
    "\n",
    "    net.set_options(opts)\n",
    "    # uncomment this to play with layout\n",
    "    # net.show_buttons(filter_=['physics'])\n",
    "    net.from_nx(g)\n",
    "    for edge in net.edges:\n",
    "         #print(edge)\n",
    "        if 'machine' in edge and isinstance(edge['machine'],str) and edge['machine'][0] == 'M':\n",
    "            edge['color']='green'\n",
    "       \n",
    "    for node in net.nodes:\n",
    "        #print(node)\n",
    "        if isinstance(node['label'],str) and node['label'][0] == 'M':\n",
    "            node['color']='red'\n",
    "            node['shape']='box'\n",
    "        #print(node)\n",
    "    return net.show(name)"
   ]
  },
  {
   "cell_type": "code",
   "execution_count": 11,
   "id": "7d45f78d-ff62-492f-8266-70bed95404bd",
   "metadata": {},
   "outputs": [
    {
     "ename": "NameError",
     "evalue": "name 'dafjs' is not defined",
     "output_type": "error",
     "traceback": [
      "\u001b[0;31m---------------------------------------------------------------------------\u001b[0m",
      "\u001b[0;31mNameError\u001b[0m                                 Traceback (most recent call last)",
      "Cell \u001b[0;32mIn[11], line 1\u001b[0m\n\u001b[0;32m----> 1\u001b[0m plot_g_pyviz(\u001b[43mdafjs\u001b[49m[\u001b[38;5;241m0\u001b[39m])\n",
      "\u001b[0;31mNameError\u001b[0m: name 'dafjs' is not defined"
     ]
    }
   ],
   "source": [
    "plot_g_pyviz(dafjs[0])"
   ]
  },
  {
   "cell_type": "code",
   "execution_count": null,
   "id": "788562b6-8bc0-44fa-9836-69b292047f6e",
   "metadata": {},
   "outputs": [],
   "source": []
  }
 ],
 "metadata": {
  "kernelspec": {
   "display_name": "Python 3 (ipykernel)",
   "language": "python",
   "name": "python3"
  },
  "language_info": {
   "codemirror_mode": {
    "name": "ipython",
    "version": 3
   },
   "file_extension": ".py",
   "mimetype": "text/x-python",
   "name": "python",
   "nbconvert_exporter": "python",
   "pygments_lexer": "ipython3",
   "version": "3.11.11"
  }
 },
 "nbformat": 4,
 "nbformat_minor": 5
}
